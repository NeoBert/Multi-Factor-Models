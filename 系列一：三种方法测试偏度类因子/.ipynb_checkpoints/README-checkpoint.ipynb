{
 "cells": [
  {
   "cell_type": "markdown",
   "metadata": {},
   "source": [
    "# 系列一：三种方法测试偏度类因子\n",
    "------------------\n",
    "本报告采用回归法、因子IC、分层回测法共3种方法对偏度类风格因子进行有效性测试。"
   ]
  },
  {
   "cell_type": "markdown",
   "metadata": {},
   "source": [
    "# 目录\n",
    "------------------\n",
    "- 1 回归法\n",
    "    - 1.1 回归模型\n",
    "    - 1.2 数据预处理方式\n",
    "    - 1.3 因子评价方法\n",
    "    - 1.4 测试结果\n",
    "- 2 因子IC\n",
    "    - 2.1 IC与RankIC\n",
    "    - 2.2 数据预处理方式\n",
    "    - 2.3 因子评价方法\n",
    "    - 2.4 测试结果\n",
    "- 3 分层回测法\n",
    "    - 3.1 分层方式\n",
    "    - 3.2 数据预处理方式\n",
    "    - 3.3 因子评价方法\n",
    "    - 3.4 测试结果"
   ]
  },
  {
   "cell_type": "markdown",
   "metadata": {},
   "source": [
    "# 1 回归法\n",
    "------------\n",
    "## 1.1 回归模型\n",
    "\n",
    "在t期，对股票池中所有股票在截面上可建立如下回归模型：\n",
    "$$r_{n,t+1}=\\sum_{i}^{}X_{ni,t}f_{i,t}+X_{nd,t}f_{d,t}+\\varepsilon _{n,t}$$\n",
    "其中，\n",
    "- $r_{n,t+1}$表示股票n在t+1期的收益率\n",
    "- $X_{ni,t}$($X_{nd,t}$)表示股票n在第t期对行业因子i(需测试的因子d)的暴露\n",
    "- $f_{i,t}$, $f_{d,t}$表示行业因子i(需测试的因子d)第t期的收益率，**是需要截面回归求解的**\n",
    "- $\\varepsilon _{n,t}$表示股票n第t期的特质收益率\n",
    "\n",
    "在每个截面上能求解一个回归方程，得到当期待测试的因子收益率及对应的系数t值，最终在整个时间区间内能得到因子收益率序列和t值序列。  \n",
    "针对模型的求解，采用的是**WLS**，权重为每支股票流通市值的平方根。（**注意不是流通市值平方根的倒数**）  \n",
    "\n",
    "股票池为全A股。"
   ]
  },
  {
   "cell_type": "markdown",
   "metadata": {},
   "source": [
    "## 1.2 数据预处理方式\n",
    "\n",
    "数据预处理包含去极值、标准化、缺失值处理（按顺序进行），预处理是单独对每个因子在横截面上进行的。\n",
    "\n",
    "- 中位数去极值：先求出所有股票对因子d的暴露$X_{nd,t}$的中位数$M_{d,t}$，再对所有股票计算相对中位数的绝对离差$\\left |X_{nd,t}-M_{d,t} \\right |$，记所有绝对离差的中位数为$M_{t}$，将所有大于$M_{d,t}+5M_{t}$和小于$M_{d,t}-5M_{t}$的因子暴露视为极端值，将极端值重设为边界值。\n",
    "- 标准化：采用最普遍的标准化方式，即减去简单平均值后除以数据的标准差。\n",
    "- 缺失值处理：以0填充（由于已经经过了标准化处理，因此本质上是以均值填充）。"
   ]
  },
  {
   "cell_type": "markdown",
   "metadata": {},
   "source": [
    "## 1.3 因子评价方法\n",
    "\n",
    "最终判定因子有效性的方法包括：\n",
    "\n",
    "- t值序列绝对值平均值\n",
    "- t值序列绝对值大于2占比\n",
    "- 因子收益率序列平均值及该序列t检验的t值\n",
    "- t值序列均值除以t值序列的标准差"
   ]
  },
  {
   "cell_type": "markdown",
   "metadata": {},
   "source": [
    "## 1.4 测试结果"
   ]
  },
  {
   "cell_type": "markdown",
   "metadata": {},
   "source": [
    "![表1.png](https://i.loli.net/2020/05/18/SlFmZiu3IT96Wof.png)"
   ]
  },
  {
   "cell_type": "markdown",
   "metadata": {},
   "source": [
    "各因子累积收益率展示：\n",
    "\n",
    "![图1.png](https://i.loli.net/2020/05/18/WSsfem5uLET6I3V.png)"
   ]
  },
  {
   "cell_type": "code",
   "execution_count": null,
   "metadata": {},
   "outputs": [],
   "source": []
  }
 ],
 "metadata": {
  "kernelspec": {
   "display_name": "Python 3",
   "language": "python",
   "name": "python3"
  },
  "language_info": {
   "codemirror_mode": {
    "name": "ipython",
    "version": 3
   },
   "file_extension": ".py",
   "mimetype": "text/x-python",
   "name": "python",
   "nbconvert_exporter": "python",
   "pygments_lexer": "ipython3",
   "version": "3.7.3"
  }
 },
 "nbformat": 4,
 "nbformat_minor": 2
}
