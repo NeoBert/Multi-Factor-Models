{
 "cells": [
  {
   "cell_type": "markdown",
   "metadata": {},
   "source": [
    "# 系列二：大类因子合成方法实证\n",
    "------\n",
    "本报告延续系列一，利用市值类因子测试了6种大类因子的合成方法。  \n",
    "一般都是基于已经预处理后的因子进行合成。\n",
    "\n",
    "*可能是学术界因子类别划分跟业界不同？导致偏度类部分因子之间与收益率相关性相反，因此权重分析很奇怪。*"
   ]
  },
  {
   "cell_type": "markdown",
   "metadata": {},
   "source": [
    "# 目录\n",
    "-------\n",
    "- 1 方法设计\n",
    "    - 1.1 等权法\n",
    "    - 1.2 历史因子收益率（半衰）加权法\n",
    "    - 1.3 历史因子IC（半衰）加权法\n",
    "    - 1.4 最大化IC_IR法\n",
    "    - 1.5 最大化IC法\n",
    "    - 1.6 主成分分析（PCA）法\n",
    "- 2 实证结果"
   ]
  },
  {
   "cell_type": "markdown",
   "metadata": {},
   "source": [
    "# 1 方法设计\n",
    "---------"
   ]
  },
  {
   "cell_type": "markdown",
   "metadata": {},
   "source": [
    "## 1.1 等权法\n",
    "-----------\n",
    "直接对每期该大类下的因子等权平均得到合成后因子。"
   ]
  },
  {
   "cell_type": "markdown",
   "metadata": {},
   "source": [
    "## 1.2 历史因子收益率（半衰）加权法\n",
    "-----------------\n",
    "该期因子值由该大类下的因子加权平均得到，权重为各个因子一段时期内的历史收益率算术平均值或者半衰加权平均值，这里解释一下**半衰加权**：  \n",
    "\n",
    "半衰加权对每期赋予的权重不同，其基本原则是离当前越近的截面期权重越大。这里存在一个参数——半衰期H，其含义是往前推H期，则权重减小为原来的一半，H可以取1，2，4等。具体而言，假设时间为1-T，T为离当前最近的截面期，则权重为：\n",
    "$$w_{t}=2^{\\frac{t-T-1}{H}}$$\n",
    "计算得到$w_{t}$之后再进行归一化"
   ]
  },
  {
   "cell_type": "markdown",
   "metadata": {},
   "source": [
    "## 1.3 历史因子IC（半衰）加权法\n",
    "---------------\n",
    "该期因子值由该大类下的因子加权平均得到，权重为各个因子一段时期内的IC算术平均值或者半衰加权平均值。"
   ]
  },
  {
   "cell_type": "markdown",
   "metadata": {},
   "source": [
    "## 1.4 最大化IC_IR加权法\n",
    "-----------\n",
    "该方法假设未来复合因子的IC等于一段时期内的历史IC均值，波动率等于一段时期内的历史波动率。记N个因子的权重向量为$\\vec{w}=\\left (w_{1},w_{2},\\cdots ,w_{N} \\right )^{T}$，它们在一段时期内的历史IC均值为$\\vec{IC}=\\left ( \\bar{ic_{1}},\\bar{ic_{2}},\\cdots ,\\bar{ic_{N}}\\right )^{T}$，则合成时需求解如下优化问题：\n",
    "$$\\max\\; \\; IC\\_IR=\\frac{\\vec{w}^{T}\\cdot \\vec{IC}}{\\sqrt{\\vec{w}^{T}\\Sigma \\vec{w}}}$$\n",
    "\n",
    "$\\Sigma$为**因子IC值的协方差矩阵**，上述优化问题有显式解$\\vec{w}=\\Sigma ^{-1}\\cdot \\vec{IC}$，但存在两个问题：\n",
    "\n",
    "- 协方差矩阵如何估计？\n",
    "- 显式解中可能存在权重为负的情况，这与因子合成的实际意义相违背。\n",
    "\n",
    "对于第一个问题，本报告采用两种方法估计协方差矩阵：\n",
    "\n",
    "- 直接计算N个因子一段时期内历史IC值的协方差矩阵，即采用样本协方差矩阵估计总体协方差矩阵\n",
    "- 采用*Ledoit and Wolf (2004)*提出的压缩估计方法，目标矩阵采用单位矩阵，将样本协方差矩阵向单位矩阵压缩\n",
    "\n",
    "对第二个问题，将优化问题改为：\n",
    "$$\\max\\; \\; IC\\_IR=\\frac{\\vec{w}^{T}\\cdot \\vec{IC}}{\\sqrt{\\vec{w}^{T}\\Sigma \\vec{w}}}$$\n",
    "$$s.t.\\; \\; \\vec{w}\\geq 0$$\n",
    "\n",
    "求解出权重$\\vec{w}$再进行**归一化**。"
   ]
  },
  {
   "cell_type": "markdown",
   "metadata": {},
   "source": [
    "## 1.5 最大化IC加权法\n",
    "----------\n",
    "该方法与最大化IC_IR加权法非常相似，此时需要求解的优化问题是：\n",
    "$$\\max\\; \\; IC=\\frac{\\vec{w}^{T}\\cdot \\vec{IC}}{\\sqrt{\\vec{w}^{T}V \\vec{w}}}$$\n",
    "\n",
    "$\\vec{w}$、$\\vec{IC}$与**1.4**中的含义相同，V为**当前截面期*因子值*的相关系数矩阵**，由于已进行过标准化，因子值的方差为1，因此**相关系数矩阵就是协方差矩阵**，同样的，将优化问题改为：\n",
    "$$\\max\\; \\; IC=\\frac{\\vec{w}^{T}\\cdot \\vec{IC}}{\\sqrt{\\vec{w}^{T}V \\vec{w}}}$$\n",
    "$$s.t.\\; \\; \\vec{w}\\geq 0$$\n",
    "\n",
    "对于协方差矩阵V的估计，采用压缩估计方法。求解出权重$\\vec{w}$后再进行归一化。"
   ]
  },
  {
   "cell_type": "markdown",
   "metadata": {},
   "source": [
    "## 1.6 主成分分析（PCA）法\n",
    "-------\n",
    "在当前截面期上对不同因子值提取主成分，并取第一主成分为合成后的因子值。"
   ]
  },
  {
   "cell_type": "markdown",
   "metadata": {},
   "source": [
    "# 2 实证结果\n",
    "----------\n",
    "- 待合成因子：偏度类因子\n",
    "- 时间窗口：12个月；半衰期：4个月\n",
    "\n",
    "所生成的复合因子与对应的描述如下表：\n",
    "\n",
    "因子名|因子描述\n",
    "-|-\n",
    "fac_eq|等权合成\n",
    "fac_ret|历史因子收益率合成\n",
    "fac_ret_half|历史因子收益率半衰合成\n",
    "fac_ic|历史因子IC合成\n",
    "fac_ic_half|历史因子IC半衰合成\n",
    "fac_maxicir_samp|最大化IC_IR（样本协方差矩阵）合成\n",
    "fac_maxicir_lw|最大化IC_IR（压缩协方差矩阵）合成\n",
    "fac_maxic|最大化IC合成\n",
    "fac_pca|PCA法合成\n",
    "\n",
    "采用回归法、IC法、分层回溯法对比复合因子和单因子的有效性。"
   ]
  },
  {
   "cell_type": "markdown",
   "metadata": {},
   "source": [
    "各个因子的平均截面秩相关系数如下表：\n",
    "\n",
    "![表1.png](https://i.loli.net/2020/06/21/aWr5K46JMzObdvt.png)"
   ]
  },
  {
   "cell_type": "markdown",
   "metadata": {},
   "source": [
    "相关性较强的有：\n",
    "\n",
    "- coskew_2y与coskew_1y\n",
    "- skew_1m与idioskew_1m\n",
    "- skew_2y与idioskew_2y\n",
    "- skew_2y与skew_1y\n",
    "\n",
    "但相关性都不高。"
   ]
  },
  {
   "cell_type": "markdown",
   "metadata": {},
   "source": [
    "回归法、IC法检验的因子有效性如下表：\n",
    "\n",
    "![图表2.png](https://i.loli.net/2020/07/04/otlg7MHARkYBwhn.png)"
   ]
  },
  {
   "cell_type": "markdown",
   "metadata": {},
   "source": [
    "综合来看，**等权合成、历史IC加权、历史IC半衰加权、最大化IC_IR（压缩协方差矩阵）合成**效果都不错，而且效果都比单个因子好得多。"
   ]
  },
  {
   "cell_type": "markdown",
   "metadata": {},
   "source": [
    "分层回测法检验因子有效性的结果如下：\n",
    "\n",
    "![图表3.png](https://i.loli.net/2020/07/04/P5HZIxFVCnYQRMS.png)"
   ]
  },
  {
   "cell_type": "markdown",
   "metadata": {},
   "source": [
    "综合来看，**历史IC加权、历史IC半衰加权、最大化IC加权**合成效果都不错，而且效果比单个因子都好得多。"
   ]
  },
  {
   "cell_type": "markdown",
   "metadata": {},
   "source": [
    "综合上述因子有效性的检验结果，我选定了最优的合成因子（之一）历史IC加权**fac_ic**，下面分别展示了其分层组合相对基准（中证全指）净值走势以及累积RankIC和累积因子收益率："
   ]
  },
  {
   "cell_type": "markdown",
   "metadata": {},
   "source": [
    "![图表4.png](https://i.loli.net/2020/07/04/O4SvAMTUxbyiYV2.png)\n",
    "\n",
    "![图表5.png](https://i.loli.net/2020/07/04/gkiDJHPyTMsZnS2.png)"
   ]
  }
 ],
 "metadata": {
  "kernelspec": {
   "display_name": "Python 3",
   "language": "python",
   "name": "python3"
  },
  "language_info": {
   "codemirror_mode": {
    "name": "ipython",
    "version": 3
   },
   "file_extension": ".py",
   "mimetype": "text/x-python",
   "name": "python",
   "nbconvert_exporter": "python",
   "pygments_lexer": "ipython3",
   "version": "3.7.3"
  }
 },
 "nbformat": 4,
 "nbformat_minor": 2
}
